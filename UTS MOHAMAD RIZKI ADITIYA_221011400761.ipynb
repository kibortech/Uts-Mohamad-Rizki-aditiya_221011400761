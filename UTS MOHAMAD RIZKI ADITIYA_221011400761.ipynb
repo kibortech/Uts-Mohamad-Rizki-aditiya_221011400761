{
 "cells": [
  {
   "cell_type": "code",
   "execution_count": 1,
   "metadata": {},
   "outputs": [],
   "source": [
    "# Data perusahaan dan karyawan\n",
    "company_detail_list = [\n",
    "    {\n",
    "        'name': 'Company 1',\n",
    "        'domain': 'Retail',\n",
    "        'country': 'United States'\n",
    "    },\n",
    "    {\n",
    "        'name': 'Company 2',\n",
    "        'domain': 'Technology',\n",
    "        'country': 'United Kingdom'\n",
    "    },\n",
    "    {\n",
    "        'name': 'Company 3',\n",
    "        'domain': 'Healthcare',\n",
    "        'country': 'United States'\n",
    "    }\n",
    "]\n",
    "\n",
    "employee_detail_list = [\n",
    "    {\n",
    "        'name': 'EMP-0001',\n",
    "        'first_name': 'John',\n",
    "        'last_name': 'Doe',\n",
    "        'full_name': 'John Doe',\n",
    "        'company': 'Company 1',\n",
    "        'nationality': 'Australia'\n",
    "    },\n",
    "    {\n",
    "        'name': 'EMP-0002',\n",
    "        'first_name': 'Tom',\n",
    "        'last_name': 'Smith',\n",
    "        'full_name': 'Tom Smith',\n",
    "        'company': 'Company 2',\n",
    "        'nationality': 'United States'\n",
    "    },\n",
    "    {\n",
    "        'name': 'EMP-0003',\n",
    "        'first_name': 'Andrew',\n",
    "        'last_name': 'Sebastian',\n",
    "        'full_name': 'Andrew Sebastian',\n",
    "        'company': 'Company 3',\n",
    "        'nationality': 'United States'\n",
    "    },\n",
    "    {\n",
    "        'name': 'EMP-0005',\n",
    "        'first_name': 'Ying Han',\n",
    "        'last_name': 'Tan',\n",
    "        'full_name': 'Ying Han Tan',\n",
    "        'company': 'Company 1',\n",
    "        'nationality': 'Australia'\n",
    "    },\n",
    "    {\n",
    "        'name': 'EMP-0015',\n",
    "        'first_name': 'Kenneth',\n",
    "        'last_name': 'Ng',\n",
    "        'full_name': 'Kenneth Ng',\n",
    "        'company': 'Company 3',\n",
    "        'nationality': 'United States'\n",
    "    },\n",
    "    {\n",
    "        'name': 'EMP-0018',\n",
    "        'first_name': 'Rubby',\n",
    "        'last_name': 'Lee',\n",
    "        'full_name': 'Rubby Lee',\n",
    "        'company': 'Company 2',\n",
    "        'nationality': 'Hong Kong'\n",
    "    },\n",
    "    {\n",
    "        'name': 'EMP-0017',\n",
    "        'first_name': 'Robert',\n",
    "        'last_name': 'White',\n",
    "        'full_name': 'Robert White',\n",
    "        'company': 'Company 1',\n",
    "        'nationality': 'United Kingdom'\n",
    "    }\n",
    "]\n"
   ]
  },
  {
   "cell_type": "code",
   "execution_count": 2,
   "metadata": {},
   "outputs": [
    {
     "name": "stdout",
     "output_type": "stream",
     "text": [
      "Task 1 Output:\n",
      "[{'name': 'Company 3'}, {'name': 'Company 2'}, {'name': 'Company 1'}]\n"
     ]
    }
   ],
   "source": [
    "# Task 1: List all Companies sorted by Company Name in reverse order\n",
    "company_names = sorted([{'name': company['name']} for company in company_detail_list], key=lambda x: x['name'], reverse=True)\n",
    "print(\"Task 1 Output:\")\n",
    "print(company_names)"
   ]
  },
  {
   "cell_type": "code",
   "execution_count": 3,
   "metadata": {},
   "outputs": [
    {
     "name": "stdout",
     "output_type": "stream",
     "text": [
      "\n",
      "Task 2 Output:\n",
      "Company 1: Retail (United States)\n",
      "Company 2: Technology (United Kingdom)\n",
      "Company 3: Healthcare (United States)\n"
     ]
    }
   ],
   "source": [
    "# Task 2: Print all Domain values with Company Name and Country\n",
    "print(\"\\nTask 2 Output:\")\n",
    "for company in company_detail_list:\n",
    "    print(f\"{company['name']}: {company['domain']} ({company['country']})\")\n"
   ]
  },
  {
   "cell_type": "code",
   "execution_count": 4,
   "metadata": {},
   "outputs": [
    {
     "name": "stdout",
     "output_type": "stream",
     "text": [
      "\n",
      "Task 3 Output:\n",
      "{'Retail': ['John Doe', 'Ying Han Tan', 'Robert White'], 'Technology': ['Tom Smith', 'Rubby Lee'], 'Healthcare': ['Andrew Sebastian', 'Kenneth Ng']}\n"
     ]
    }
   ],
   "source": [
    "# Task 3: List all Employees grouped by Company Domain\n",
    "domain_employees = {}\n",
    "for company in company_detail_list:\n",
    "    domain = company['domain']\n",
    "    domain_employees[domain] = [employee['full_name'] for employee in employee_detail_list if employee['company'] == company['name']]\n",
    "print(\"\\nTask 3 Output:\")\n",
    "print(domain_employees)"
   ]
  },
  {
   "cell_type": "code",
   "execution_count": 5,
   "metadata": {},
   "outputs": [
    {
     "name": "stdout",
     "output_type": "stream",
     "text": [
      "\n",
      "Task 4 Output:\n",
      "[{'full_name': 'John Doe', 'company': 'Company 1', 'country': 'United States'}, {'full_name': 'Tom Smith', 'company': 'Company 2', 'country': 'United Kingdom'}, {'full_name': 'Andrew Sebastian', 'company': 'Company 3', 'country': 'United States'}, {'full_name': 'Ying Han Tan', 'company': 'Company 1', 'country': 'United States'}, {'full_name': 'Kenneth Ng', 'company': 'Company 3', 'country': 'United States'}, {'full_name': 'Rubby Lee', 'company': 'Company 2', 'country': 'United Kingdom'}, {'full_name': 'Robert White', 'company': 'Company 1', 'country': 'United States'}]\n"
     ]
    }
   ],
   "source": [
    "# Task 4: Function to return employees with their company country\n",
    "def employees_with_company_country(employee_list, company_list):\n",
    "    result = []\n",
    "    company_country = {company['name']: company['country'] for company in company_list}\n",
    "    for employee in employee_list:\n",
    "        result.append({\n",
    "            'full_name': employee['full_name'],\n",
    "            'company': employee['company'],\n",
    "            'country': company_country[employee['company']]\n",
    "        })\n",
    "    return result\n",
    "\n",
    "print(\"\\nTask 4 Output:\")\n",
    "print(employees_with_company_country(employee_detail_list, company_detail_list))"
   ]
  },
  {
   "cell_type": "code",
   "execution_count": 6,
   "metadata": {},
   "outputs": [
    {
     "name": "stdout",
     "output_type": "stream",
     "text": [
      "\n",
      "Task 5 Output:\n",
      "[{'company': 'Company 1', 'employee_nationality': {'Australia': 2, 'United Kingdom': 1}}, {'company': 'Company 2', 'employee_nationality': {'United States': 1, 'Hong Kong': 1}}, {'company': 'Company 3', 'employee_nationality': {'United States': 2}}]\n"
     ]
    }
   ],
   "source": [
    "# Task 5: Function to return companies with count of employees' nationalities\n",
    "def employee_nationality_count_by_company(employee_list, company_list):\n",
    "    nationality_count = {company['name']: {} for company in company_list}\n",
    "    for employee in employee_list:\n",
    "        company_name = employee['company']\n",
    "        nationality = employee['nationality']\n",
    "        if nationality in nationality_count[company_name]:\n",
    "            nationality_count[company_name][nationality] += 1\n",
    "        else:\n",
    "            nationality_count[company_name][nationality] = 1\n",
    "\n",
    "    return [{'company': company, 'employee_nationality': nationality_count[company]} for company in nationality_count]\n",
    "\n",
    "print(\"\\nTask 5 Output:\")\n",
    "print(employee_nationality_count_by_company(employee_detail_list, company_detail_list))\n"
   ]
  },
  {
   "cell_type": "code",
   "execution_count": null,
   "metadata": {},
   "outputs": [],
   "source": []
  },
  {
   "cell_type": "code",
   "execution_count": null,
   "metadata": {},
   "outputs": [],
   "source": []
  }
 ],
 "metadata": {
  "kernelspec": {
   "display_name": "Python 3",
   "language": "python",
   "name": "python3"
  },
  "language_info": {
   "codemirror_mode": {
    "name": "ipython",
    "version": 3
   },
   "file_extension": ".py",
   "mimetype": "text/x-python",
   "name": "python",
   "nbconvert_exporter": "python",
   "pygments_lexer": "ipython3",
   "version": "3.12.3"
  }
 },
 "nbformat": 4,
 "nbformat_minor": 2
}
